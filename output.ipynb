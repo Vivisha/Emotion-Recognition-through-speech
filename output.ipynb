{
 "cells": [
  {
   "cell_type": "code",
   "execution_count": 1,
   "metadata": {},
   "outputs": [],
   "source": [
    "import librosa\n",
    "import soundfile\n",
    "import os, glob, pickle\n",
    "import numpy as np\n",
    "from sklearn.model_selection import train_test_split\n",
    "from sklearn.neural_network import MLPClassifier\n",
    "from sklearn.metrics import accuracy_score"
   ]
  },
  {
   "cell_type": "code",
   "execution_count": 2,
   "metadata": {},
   "outputs": [],
   "source": [
    "def extract_feature(file_name, mfcc, chroma, mel):\n",
    "    X, sample_rate = librosa.load(os.path.join(file_name), res_type='kaiser_fast')\n",
    "    if chroma:\n",
    "        stft=np.abs(librosa.stft(X))\n",
    "    result=np.array([])\n",
    "    if mfcc:\n",
    "        mfccs=np.mean(librosa.feature.mfcc(y=X, sr=sample_rate, n_mfcc=40).T, axis=0)\n",
    "        result=np.hstack((result, mfccs))\n",
    "    if chroma:\n",
    "        chroma=np.mean(librosa.feature.chroma_stft(S=stft, sr=sample_rate).T,axis=0)\n",
    "        result=np.hstack((result, chroma))\n",
    "    if mel:\n",
    "        mel=np.mean(librosa.feature.melspectrogram(X, sr=sample_rate).T,axis=0)\n",
    "        result=np.hstack((result, mel))\n",
    "    return result"
   ]
  },
  {
   "cell_type": "code",
   "execution_count": 3,
   "metadata": {},
   "outputs": [],
   "source": [
    "\n",
    "emotions={\n",
    "  '01':'neutral',\n",
    "  '02':'calm',\n",
    "  '03':'happy',\n",
    "  '04':'sad',\n",
    "  '05':'angry',\n",
    "  '06':'fearful',\n",
    "  '07':'disgust',\n",
    "  '08':'surprised'\n",
    "}\n",
    "# Emotions to observe\n",
    "observed_emotions=['neutral','calm','happy','sad','angry','fearful', 'disgust','surprised']"
   ]
  },
  {
   "cell_type": "code",
   "execution_count": 14,
   "metadata": {},
   "outputs": [],
   "source": [
    "def load_data(test_size=0.2):\n",
    "    x,y=[],[]\n",
    "    for file in glob.glob(\"C:\\\\Users\\\\LENOVO\\\\Downloads\\\\archive\\\\audio_speech_actors_01-24\\\\Actor_*/*.wav\"):\n",
    "        file_name=os.path.basename(file)\n",
    "        emotion=emotions[file_name.split(\"-\")[2]]\n",
    "        if emotion not in observed_emotions:\n",
    "            continue\n",
    "        feature=extract_feature(file, mfcc=True, chroma=True, mel=True)\n",
    "        x.append(feature)\n",
    "        y.append(emotion)\n",
    "    return train_test_split(np.array(x), y, test_size=test_size, train_size= 0.80,random_state=9)"
   ]
  },
  {
   "cell_type": "code",
   "execution_count": 15,
   "metadata": {},
   "outputs": [],
   "source": [
    "\n",
    "import time\n",
    "x_train,x_test,y_train,y_test=load_data(test_size=0.20)"
   ]
  },
  {
   "cell_type": "code",
   "execution_count": 16,
   "metadata": {},
   "outputs": [
    {
     "name": "stdout",
     "output_type": "stream",
     "text": [
      "(1152, 288)\n"
     ]
    }
   ],
   "source": [
    "print((x_train.shape[0], x_test.shape[0]))"
   ]
  },
  {
   "cell_type": "code",
   "execution_count": 17,
   "metadata": {},
   "outputs": [
    {
     "name": "stdout",
     "output_type": "stream",
     "text": [
      "Features extracted: 180\n"
     ]
    }
   ],
   "source": [
    "print(f'Features extracted: {x_train.shape[1]}')"
   ]
  },
  {
   "cell_type": "code",
   "execution_count": 18,
   "metadata": {},
   "outputs": [],
   "source": [
    "model=MLPClassifier(alpha=0.01, batch_size=256, epsilon=1e-08, hidden_layer_sizes=(300,), learning_rate='adaptive', \n",
    "                    max_iter=500)"
   ]
  },
  {
   "cell_type": "code",
   "execution_count": 19,
   "metadata": {},
   "outputs": [
    {
     "data": {
      "text/plain": [
       "MLPClassifier(activation='relu', alpha=0.01, batch_size=256, beta_1=0.9,\n",
       "              beta_2=0.999, early_stopping=False, epsilon=1e-08,\n",
       "              hidden_layer_sizes=(300,), learning_rate='adaptive',\n",
       "              learning_rate_init=0.001, max_fun=15000, max_iter=500,\n",
       "              momentum=0.9, n_iter_no_change=10, nesterovs_momentum=True,\n",
       "              power_t=0.5, random_state=None, shuffle=True, solver='adam',\n",
       "              tol=0.0001, validation_fraction=0.1, verbose=False,\n",
       "              warm_start=False)"
      ]
     },
     "execution_count": 19,
     "metadata": {},
     "output_type": "execute_result"
    }
   ],
   "source": [
    "model.fit(x_train,y_train)"
   ]
  },
  {
   "cell_type": "code",
   "execution_count": 20,
   "metadata": {},
   "outputs": [
    {
     "data": {
      "text/plain": [
       "MLPClassifier(activation='relu', alpha=0.01, batch_size=256, beta_1=0.9,\n",
       "              beta_2=0.999, early_stopping=False, epsilon=1e-08,\n",
       "              hidden_layer_sizes=(300,), learning_rate='adaptive',\n",
       "              learning_rate_init=0.001, max_fun=15000, max_iter=500,\n",
       "              momentum=0.9, n_iter_no_change=10, nesterovs_momentum=True,\n",
       "              power_t=0.5, random_state=None, shuffle=True, solver='adam',\n",
       "              tol=0.0001, validation_fraction=0.1, verbose=False,\n",
       "              warm_start=False)"
      ]
     },
     "execution_count": 20,
     "metadata": {},
     "output_type": "execute_result"
    }
   ],
   "source": [
    "MLPClassifier(activation='relu', alpha=0.01, batch_size=256, beta_1=0.9,\n",
    "              beta_2=0.999, early_stopping=False, epsilon=1e-08,\n",
    "              hidden_layer_sizes=(300,), learning_rate='adaptive',\n",
    "              learning_rate_init=0.001, max_iter=500, momentum=0.9,\n",
    "              n_iter_no_change=10, nesterovs_momentum=True, power_t=0.5,\n",
    "              random_state=None, shuffle=True, solver='adam', tol=0.0001,\n",
    "              validation_fraction=0.1, verbose=False, warm_start=False)"
   ]
  },
  {
   "cell_type": "code",
   "execution_count": 21,
   "metadata": {},
   "outputs": [],
   "source": [
    "\n",
    "y_pred=model.predict(x_test)"
   ]
  },
  {
   "cell_type": "code",
   "execution_count": 22,
   "metadata": {},
   "outputs": [
    {
     "name": "stdout",
     "output_type": "stream",
     "text": [
      "Accuracy: 51.39%\n"
     ]
    }
   ],
   "source": [
    "accuracy=accuracy_score(y_true=y_test, y_pred=y_pred)\n",
    "# Print the accuracy\n",
    "print(\"Accuracy: {:.2f}%\".format(accuracy*100))"
   ]
  },
  {
   "cell_type": "code",
   "execution_count": 23,
   "metadata": {},
   "outputs": [
    {
     "name": "stdout",
     "output_type": "stream",
     "text": [
      "              precision    recall  f1-score   support\n",
      "\n",
      "       angry       0.63      0.56      0.59        39\n",
      "        calm       0.63      0.67      0.65        36\n",
      "     disgust       0.43      0.58      0.49        33\n",
      "     fearful       0.76      0.59      0.67        37\n",
      "       happy       0.73      0.30      0.43        53\n",
      "     neutral       0.55      0.26      0.35        23\n",
      "         sad       0.32      0.56      0.40        36\n",
      "   surprised       0.41      0.61      0.49        31\n",
      "\n",
      "    accuracy                           0.51       288\n",
      "   macro avg       0.56      0.52      0.51       288\n",
      "weighted avg       0.57      0.51      0.51       288\n",
      "\n"
     ]
    }
   ],
   "source": [
    "from sklearn.metrics import classification_report\n",
    "print(classification_report(y_test,y_pred))\n"
   ]
  },
  {
   "cell_type": "code",
   "execution_count": 24,
   "metadata": {},
   "outputs": [
    {
     "name": "stdout",
     "output_type": "stream",
     "text": [
      "[[22  1  5  1  1  0  2  7]\n",
      " [ 0 24  3  0  0  1  8  0]\n",
      " [ 4  0 19  1  1  0  5  3]\n",
      " [ 1  0  4 22  2  0  6  2]\n",
      " [ 4  1  8  2 16  0 13  9]\n",
      " [ 0  6  0  0  1  6  8  2]\n",
      " [ 1  4  2  2  1  2 20  4]\n",
      " [ 3  2  3  1  0  2  1 19]]\n"
     ]
    }
   ],
   "source": [
    "from sklearn.metrics import confusion_matrix\n",
    "matrix = confusion_matrix(y_test,y_pred)\n",
    "print (matrix)"
   ]
  },
  {
   "cell_type": "code",
   "execution_count": 25,
   "metadata": {},
   "outputs": [],
   "source": [
    "import pickle\n",
    "# Save the Model to file in the current working directory\n",
    "#For any new testing data other than the data in dataset\n",
    "\n",
    "Pkl_Filename = \"Emotion_Recognition_Through_Speech.pkl\"  \n",
    "\n",
    "with open(Pkl_Filename, 'wb') as file:  \n",
    "    pickle.dump(model, file)"
   ]
  },
  {
   "cell_type": "code",
   "execution_count": 26,
   "metadata": {},
   "outputs": [
    {
     "data": {
      "text/plain": [
       "MLPClassifier(activation='relu', alpha=0.01, batch_size=256, beta_1=0.9,\n",
       "              beta_2=0.999, early_stopping=False, epsilon=1e-08,\n",
       "              hidden_layer_sizes=(300,), learning_rate='adaptive',\n",
       "              learning_rate_init=0.001, max_fun=15000, max_iter=500,\n",
       "              momentum=0.9, n_iter_no_change=10, nesterovs_momentum=True,\n",
       "              power_t=0.5, random_state=None, shuffle=True, solver='adam',\n",
       "              tol=0.0001, validation_fraction=0.1, verbose=False,\n",
       "              warm_start=False)"
      ]
     },
     "execution_count": 26,
     "metadata": {},
     "output_type": "execute_result"
    }
   ],
   "source": [
    "with open(Pkl_Filename, 'rb') as file:  \n",
    "    Emotion_Recognition_Through_Speech = pickle.load(file)\n",
    "\n",
    "Emotion_Recognition_Through_Speech"
   ]
  },
  {
   "cell_type": "code",
   "execution_count": 27,
   "metadata": {},
   "outputs": [
    {
     "data": {
      "text/plain": [
       "array(['disgust', 'sad', 'disgust', 'neutral', 'happy', 'fearful',\n",
       "       'disgust', 'sad', 'happy', 'angry', 'surprised', 'surprised',\n",
       "       'sad', 'disgust', 'sad', 'surprised', 'happy', 'surprised',\n",
       "       'surprised', 'angry', 'surprised', 'surprised', 'fearful', 'sad',\n",
       "       'sad', 'surprised', 'sad', 'sad', 'sad', 'sad', 'calm', 'sad',\n",
       "       'happy', 'fearful', 'fearful', 'disgust', 'disgust', 'disgust',\n",
       "       'sad', 'fearful', 'surprised', 'calm', 'fearful', 'disgust',\n",
       "       'angry', 'sad', 'sad', 'angry', 'fearful', 'calm', 'sad', 'happy',\n",
       "       'fearful', 'surprised', 'sad', 'sad', 'angry', 'surprised',\n",
       "       'happy', 'surprised', 'fearful', 'sad', 'angry', 'surprised',\n",
       "       'fearful', 'happy', 'surprised', 'disgust', 'surprised', 'neutral',\n",
       "       'surprised', 'angry', 'disgust', 'surprised', 'happy', 'sad',\n",
       "       'calm', 'fearful', 'calm', 'surprised', 'angry', 'sad',\n",
       "       'surprised', 'happy', 'angry', 'calm', 'surprised', 'sad', 'calm',\n",
       "       'disgust', 'surprised', 'happy', 'calm', 'angry', 'disgust', 'sad',\n",
       "       'sad', 'calm', 'disgust', 'angry', 'calm', 'sad', 'surprised',\n",
       "       'sad', 'sad', 'disgust', 'angry', 'calm', 'fearful', 'happy',\n",
       "       'sad', 'surprised', 'disgust', 'neutral', 'calm', 'calm', 'sad',\n",
       "       'disgust', 'happy', 'calm', 'calm', 'surprised', 'surprised',\n",
       "       'calm', 'fearful', 'happy', 'disgust', 'disgust', 'neutral', 'sad',\n",
       "       'angry', 'fearful', 'angry', 'fearful', 'disgust', 'calm',\n",
       "       'neutral', 'sad', 'surprised', 'sad', 'angry', 'sad', 'angry',\n",
       "       'surprised', 'fearful', 'sad', 'sad', 'calm', 'angry', 'surprised',\n",
       "       'disgust', 'calm', 'disgust', 'angry', 'angry', 'angry', 'disgust',\n",
       "       'sad', 'angry', 'calm', 'disgust', 'fearful', 'disgust', 'angry',\n",
       "       'disgust', 'disgust', 'surprised', 'calm', 'happy', 'disgust',\n",
       "       'fearful', 'angry', 'surprised', 'angry', 'angry', 'sad', 'angry',\n",
       "       'calm', 'neutral', 'calm', 'disgust', 'sad', 'calm', 'surprised',\n",
       "       'fearful', 'disgust', 'happy', 'disgust', 'disgust', 'sad', 'sad',\n",
       "       'sad', 'sad', 'disgust', 'happy', 'fearful', 'sad', 'fearful',\n",
       "       'angry', 'sad', 'sad', 'happy', 'sad', 'surprised', 'disgust',\n",
       "       'surprised', 'sad', 'sad', 'sad', 'surprised', 'angry', 'calm',\n",
       "       'fearful', 'fearful', 'calm', 'neutral', 'calm', 'disgust', 'sad',\n",
       "       'surprised', 'happy', 'sad', 'neutral', 'calm', 'fearful', 'angry',\n",
       "       'surprised', 'sad', 'disgust', 'disgust', 'angry', 'neutral',\n",
       "       'disgust', 'disgust', 'sad', 'calm', 'calm', 'surprised',\n",
       "       'neutral', 'angry', 'calm', 'surprised', 'angry', 'sad',\n",
       "       'surprised', 'sad', 'fearful', 'disgust', 'fearful', 'surprised',\n",
       "       'calm', 'happy', 'surprised', 'happy', 'disgust', 'calm', 'calm',\n",
       "       'sad', 'angry', 'surprised', 'surprised', 'surprised', 'surprised',\n",
       "       'neutral', 'sad', 'fearful', 'disgust', 'disgust', 'sad', 'sad',\n",
       "       'fearful', 'surprised', 'happy', 'calm', 'sad', 'angry', 'sad',\n",
       "       'calm', 'sad', 'disgust', 'happy', 'calm', 'sad', 'disgust',\n",
       "       'calm', 'fearful', 'angry', 'sad'], dtype='<U9')"
      ]
     },
     "execution_count": 27,
     "metadata": {},
     "output_type": "execute_result"
    }
   ],
   "source": [
    "A=Emotion_Recognition_Through_Speech.predict(x_test)\n",
    "A"
   ]
  },
  {
   "cell_type": "code",
   "execution_count": 28,
   "metadata": {},
   "outputs": [
    {
     "data": {
      "text/plain": [
       "array(['sad'], dtype='<U9')"
      ]
     },
     "execution_count": 28,
     "metadata": {},
     "output_type": "execute_result"
    }
   ],
   "source": [
    "new_feature= extract_feature(\"C:\\\\Users\\\\LENOVO\\\\Downloads\\\\archive\\\\audio_speech_actors_01-24\\\\Actor_01\\\\03-01-01-01-01-01-01.wav\",mfcc=True, chroma=True, mel=True)\n",
    "new_feature.shape\n",
    "Emotion_Recognition_Through_Speech.predict([new_feature])"
   ]
  },
  {
   "cell_type": "code",
   "execution_count": 30,
   "metadata": {},
   "outputs": [
    {
     "data": {
      "text/plain": [
       "array(['angry'], dtype='<U9')"
      ]
     },
     "execution_count": 30,
     "metadata": {},
     "output_type": "execute_result"
    }
   ],
   "source": [
    "file = 'C:\\\\Users\\\\LENOVO\\\\Downloads\\\\archive\\\\audio_speech_actors_01-24\\\\Actor_01\\\\03-01-03-02-02-01-01.wav'\n",
    "\n",
    "new_feature= extract_feature(file, mfcc=True, chroma=True, mel=True)\n",
    "\n",
    "\n",
    "Emotion_Recognition_Through_Speech.predict([new_feature])"
   ]
  },
  {
   "cell_type": "code",
   "execution_count": null,
   "metadata": {},
   "outputs": [],
   "source": []
  }
 ],
 "metadata": {
  "kernelspec": {
   "display_name": "Python 3",
   "language": "python",
   "name": "python3"
  },
  "language_info": {
   "codemirror_mode": {
    "name": "ipython",
    "version": 3
   },
   "file_extension": ".py",
   "mimetype": "text/x-python",
   "name": "python",
   "nbconvert_exporter": "python",
   "pygments_lexer": "ipython3",
   "version": "3.7.6"
  }
 },
 "nbformat": 4,
 "nbformat_minor": 4
}
